{
 "cells": [
  {
   "cell_type": "code",
   "execution_count": null,
   "metadata": {},
   "outputs": [
    {
     "name": "stdout",
     "output_type": "stream",
     "text": [
      "Succesful fetch.\n"
     ]
    },
    {
     "name": "stderr",
     "output_type": "stream",
     "text": [
      "C:\\Users\\Giwrgos\\AppData\\Local\\Temp\\ipykernel_13696\\2756754425.py:52: FutureWarning: Passing literal html to 'read_html' is deprecated and will be removed in a future version. To read from a literal string, wrap it in a 'StringIO' object.\n",
      "  fixtures = pd.read_html(matches_data.text, match=\"Scores & Fixtures\")[0]\n",
      "C:\\Users\\Giwrgos\\AppData\\Local\\Temp\\ipykernel_13696\\2756754425.py:58: FutureWarning: Passing literal html to 'read_html' is deprecated and will be removed in a future version. To read from a literal string, wrap it in a 'StringIO' object.\n",
      "  shooting = pd.read_html(shooting_data.text, match=\"Shooting\")[0]\n"
     ]
    },
    {
     "name": "stdout",
     "output_type": "stream",
     "text": [
      "Manchester City\n"
     ]
    },
    {
     "name": "stderr",
     "output_type": "stream",
     "text": [
      "C:\\Users\\Giwrgos\\AppData\\Local\\Temp\\ipykernel_13696\\2756754425.py:52: FutureWarning: Passing literal html to 'read_html' is deprecated and will be removed in a future version. To read from a literal string, wrap it in a 'StringIO' object.\n",
      "  fixtures = pd.read_html(matches_data.text, match=\"Scores & Fixtures\")[0]\n",
      "C:\\Users\\Giwrgos\\AppData\\Local\\Temp\\ipykernel_13696\\2756754425.py:58: FutureWarning: Passing literal html to 'read_html' is deprecated and will be removed in a future version. To read from a literal string, wrap it in a 'StringIO' object.\n",
      "  shooting = pd.read_html(shooting_data.text, match=\"Shooting\")[0]\n"
     ]
    },
    {
     "name": "stdout",
     "output_type": "stream",
     "text": [
      "Arsenal\n"
     ]
    },
    {
     "name": "stderr",
     "output_type": "stream",
     "text": [
      "C:\\Users\\Giwrgos\\AppData\\Local\\Temp\\ipykernel_13696\\2756754425.py:52: FutureWarning: Passing literal html to 'read_html' is deprecated and will be removed in a future version. To read from a literal string, wrap it in a 'StringIO' object.\n",
      "  fixtures = pd.read_html(matches_data.text, match=\"Scores & Fixtures\")[0]\n",
      "C:\\Users\\Giwrgos\\AppData\\Local\\Temp\\ipykernel_13696\\2756754425.py:58: FutureWarning: Passing literal html to 'read_html' is deprecated and will be removed in a future version. To read from a literal string, wrap it in a 'StringIO' object.\n",
      "  shooting = pd.read_html(shooting_data.text, match=\"Shooting\")[0]\n"
     ]
    },
    {
     "name": "stdout",
     "output_type": "stream",
     "text": [
      "Liverpool\n"
     ]
    },
    {
     "name": "stderr",
     "output_type": "stream",
     "text": [
      "C:\\Users\\Giwrgos\\AppData\\Local\\Temp\\ipykernel_13696\\2756754425.py:52: FutureWarning: Passing literal html to 'read_html' is deprecated and will be removed in a future version. To read from a literal string, wrap it in a 'StringIO' object.\n",
      "  fixtures = pd.read_html(matches_data.text, match=\"Scores & Fixtures\")[0]\n",
      "C:\\Users\\Giwrgos\\AppData\\Local\\Temp\\ipykernel_13696\\2756754425.py:58: FutureWarning: Passing literal html to 'read_html' is deprecated and will be removed in a future version. To read from a literal string, wrap it in a 'StringIO' object.\n",
      "  shooting = pd.read_html(shooting_data.text, match=\"Shooting\")[0]\n"
     ]
    },
    {
     "name": "stdout",
     "output_type": "stream",
     "text": [
      "Aston Villa\n"
     ]
    },
    {
     "name": "stderr",
     "output_type": "stream",
     "text": [
      "C:\\Users\\Giwrgos\\AppData\\Local\\Temp\\ipykernel_13696\\2756754425.py:52: FutureWarning: Passing literal html to 'read_html' is deprecated and will be removed in a future version. To read from a literal string, wrap it in a 'StringIO' object.\n",
      "  fixtures = pd.read_html(matches_data.text, match=\"Scores & Fixtures\")[0]\n",
      "C:\\Users\\Giwrgos\\AppData\\Local\\Temp\\ipykernel_13696\\2756754425.py:58: FutureWarning: Passing literal html to 'read_html' is deprecated and will be removed in a future version. To read from a literal string, wrap it in a 'StringIO' object.\n",
      "  shooting = pd.read_html(shooting_data.text, match=\"Shooting\")[0]\n"
     ]
    },
    {
     "name": "stdout",
     "output_type": "stream",
     "text": [
      "Tottenham Hotspur\n"
     ]
    },
    {
     "name": "stderr",
     "output_type": "stream",
     "text": [
      "C:\\Users\\Giwrgos\\AppData\\Local\\Temp\\ipykernel_13696\\2756754425.py:52: FutureWarning: Passing literal html to 'read_html' is deprecated and will be removed in a future version. To read from a literal string, wrap it in a 'StringIO' object.\n",
      "  fixtures = pd.read_html(matches_data.text, match=\"Scores & Fixtures\")[0]\n",
      "C:\\Users\\Giwrgos\\AppData\\Local\\Temp\\ipykernel_13696\\2756754425.py:58: FutureWarning: Passing literal html to 'read_html' is deprecated and will be removed in a future version. To read from a literal string, wrap it in a 'StringIO' object.\n",
      "  shooting = pd.read_html(shooting_data.text, match=\"Shooting\")[0]\n"
     ]
    },
    {
     "name": "stdout",
     "output_type": "stream",
     "text": [
      "Chelsea\n"
     ]
    },
    {
     "name": "stderr",
     "output_type": "stream",
     "text": [
      "C:\\Users\\Giwrgos\\AppData\\Local\\Temp\\ipykernel_13696\\2756754425.py:52: FutureWarning: Passing literal html to 'read_html' is deprecated and will be removed in a future version. To read from a literal string, wrap it in a 'StringIO' object.\n",
      "  fixtures = pd.read_html(matches_data.text, match=\"Scores & Fixtures\")[0]\n",
      "C:\\Users\\Giwrgos\\AppData\\Local\\Temp\\ipykernel_13696\\2756754425.py:58: FutureWarning: Passing literal html to 'read_html' is deprecated and will be removed in a future version. To read from a literal string, wrap it in a 'StringIO' object.\n",
      "  shooting = pd.read_html(shooting_data.text, match=\"Shooting\")[0]\n"
     ]
    },
    {
     "name": "stdout",
     "output_type": "stream",
     "text": [
      "Newcastle United\n"
     ]
    },
    {
     "name": "stderr",
     "output_type": "stream",
     "text": [
      "C:\\Users\\Giwrgos\\AppData\\Local\\Temp\\ipykernel_13696\\2756754425.py:52: FutureWarning: Passing literal html to 'read_html' is deprecated and will be removed in a future version. To read from a literal string, wrap it in a 'StringIO' object.\n",
      "  fixtures = pd.read_html(matches_data.text, match=\"Scores & Fixtures\")[0]\n",
      "C:\\Users\\Giwrgos\\AppData\\Local\\Temp\\ipykernel_13696\\2756754425.py:58: FutureWarning: Passing literal html to 'read_html' is deprecated and will be removed in a future version. To read from a literal string, wrap it in a 'StringIO' object.\n",
      "  shooting = pd.read_html(shooting_data.text, match=\"Shooting\")[0]\n"
     ]
    },
    {
     "name": "stdout",
     "output_type": "stream",
     "text": [
      "Manchester United\n"
     ]
    },
    {
     "name": "stderr",
     "output_type": "stream",
     "text": [
      "C:\\Users\\Giwrgos\\AppData\\Local\\Temp\\ipykernel_13696\\2756754425.py:52: FutureWarning: Passing literal html to 'read_html' is deprecated and will be removed in a future version. To read from a literal string, wrap it in a 'StringIO' object.\n",
      "  fixtures = pd.read_html(matches_data.text, match=\"Scores & Fixtures\")[0]\n",
      "C:\\Users\\Giwrgos\\AppData\\Local\\Temp\\ipykernel_13696\\2756754425.py:58: FutureWarning: Passing literal html to 'read_html' is deprecated and will be removed in a future version. To read from a literal string, wrap it in a 'StringIO' object.\n",
      "  shooting = pd.read_html(shooting_data.text, match=\"Shooting\")[0]\n"
     ]
    },
    {
     "name": "stdout",
     "output_type": "stream",
     "text": [
      "West Ham United\n"
     ]
    },
    {
     "name": "stderr",
     "output_type": "stream",
     "text": [
      "C:\\Users\\Giwrgos\\AppData\\Local\\Temp\\ipykernel_13696\\2756754425.py:52: FutureWarning: Passing literal html to 'read_html' is deprecated and will be removed in a future version. To read from a literal string, wrap it in a 'StringIO' object.\n",
      "  fixtures = pd.read_html(matches_data.text, match=\"Scores & Fixtures\")[0]\n",
      "C:\\Users\\Giwrgos\\AppData\\Local\\Temp\\ipykernel_13696\\2756754425.py:58: FutureWarning: Passing literal html to 'read_html' is deprecated and will be removed in a future version. To read from a literal string, wrap it in a 'StringIO' object.\n",
      "  shooting = pd.read_html(shooting_data.text, match=\"Shooting\")[0]\n"
     ]
    },
    {
     "name": "stdout",
     "output_type": "stream",
     "text": [
      "Crystal Palace\n"
     ]
    },
    {
     "name": "stderr",
     "output_type": "stream",
     "text": [
      "C:\\Users\\Giwrgos\\AppData\\Local\\Temp\\ipykernel_13696\\2756754425.py:52: FutureWarning: Passing literal html to 'read_html' is deprecated and will be removed in a future version. To read from a literal string, wrap it in a 'StringIO' object.\n",
      "  fixtures = pd.read_html(matches_data.text, match=\"Scores & Fixtures\")[0]\n",
      "C:\\Users\\Giwrgos\\AppData\\Local\\Temp\\ipykernel_13696\\2756754425.py:58: FutureWarning: Passing literal html to 'read_html' is deprecated and will be removed in a future version. To read from a literal string, wrap it in a 'StringIO' object.\n",
      "  shooting = pd.read_html(shooting_data.text, match=\"Shooting\")[0]\n"
     ]
    },
    {
     "name": "stdout",
     "output_type": "stream",
     "text": [
      "Brighton and Hove Albion\n"
     ]
    },
    {
     "name": "stderr",
     "output_type": "stream",
     "text": [
      "C:\\Users\\Giwrgos\\AppData\\Local\\Temp\\ipykernel_13696\\2756754425.py:52: FutureWarning: Passing literal html to 'read_html' is deprecated and will be removed in a future version. To read from a literal string, wrap it in a 'StringIO' object.\n",
      "  fixtures = pd.read_html(matches_data.text, match=\"Scores & Fixtures\")[0]\n",
      "C:\\Users\\Giwrgos\\AppData\\Local\\Temp\\ipykernel_13696\\2756754425.py:58: FutureWarning: Passing literal html to 'read_html' is deprecated and will be removed in a future version. To read from a literal string, wrap it in a 'StringIO' object.\n",
      "  shooting = pd.read_html(shooting_data.text, match=\"Shooting\")[0]\n"
     ]
    },
    {
     "name": "stdout",
     "output_type": "stream",
     "text": [
      "Bournemouth\n"
     ]
    },
    {
     "name": "stderr",
     "output_type": "stream",
     "text": [
      "C:\\Users\\Giwrgos\\AppData\\Local\\Temp\\ipykernel_13696\\2756754425.py:52: FutureWarning: Passing literal html to 'read_html' is deprecated and will be removed in a future version. To read from a literal string, wrap it in a 'StringIO' object.\n",
      "  fixtures = pd.read_html(matches_data.text, match=\"Scores & Fixtures\")[0]\n",
      "C:\\Users\\Giwrgos\\AppData\\Local\\Temp\\ipykernel_13696\\2756754425.py:58: FutureWarning: Passing literal html to 'read_html' is deprecated and will be removed in a future version. To read from a literal string, wrap it in a 'StringIO' object.\n",
      "  shooting = pd.read_html(shooting_data.text, match=\"Shooting\")[0]\n"
     ]
    },
    {
     "name": "stdout",
     "output_type": "stream",
     "text": [
      "Fulham\n"
     ]
    },
    {
     "name": "stderr",
     "output_type": "stream",
     "text": [
      "C:\\Users\\Giwrgos\\AppData\\Local\\Temp\\ipykernel_13696\\2756754425.py:52: FutureWarning: Passing literal html to 'read_html' is deprecated and will be removed in a future version. To read from a literal string, wrap it in a 'StringIO' object.\n",
      "  fixtures = pd.read_html(matches_data.text, match=\"Scores & Fixtures\")[0]\n",
      "C:\\Users\\Giwrgos\\AppData\\Local\\Temp\\ipykernel_13696\\2756754425.py:58: FutureWarning: Passing literal html to 'read_html' is deprecated and will be removed in a future version. To read from a literal string, wrap it in a 'StringIO' object.\n",
      "  shooting = pd.read_html(shooting_data.text, match=\"Shooting\")[0]\n"
     ]
    },
    {
     "name": "stdout",
     "output_type": "stream",
     "text": [
      "Wolverhampton Wanderers\n"
     ]
    },
    {
     "name": "stderr",
     "output_type": "stream",
     "text": [
      "C:\\Users\\Giwrgos\\AppData\\Local\\Temp\\ipykernel_13696\\2756754425.py:52: FutureWarning: Passing literal html to 'read_html' is deprecated and will be removed in a future version. To read from a literal string, wrap it in a 'StringIO' object.\n",
      "  fixtures = pd.read_html(matches_data.text, match=\"Scores & Fixtures\")[0]\n",
      "C:\\Users\\Giwrgos\\AppData\\Local\\Temp\\ipykernel_13696\\2756754425.py:58: FutureWarning: Passing literal html to 'read_html' is deprecated and will be removed in a future version. To read from a literal string, wrap it in a 'StringIO' object.\n",
      "  shooting = pd.read_html(shooting_data.text, match=\"Shooting\")[0]\n"
     ]
    },
    {
     "name": "stdout",
     "output_type": "stream",
     "text": [
      "Everton\n"
     ]
    },
    {
     "name": "stderr",
     "output_type": "stream",
     "text": [
      "C:\\Users\\Giwrgos\\AppData\\Local\\Temp\\ipykernel_13696\\2756754425.py:52: FutureWarning: Passing literal html to 'read_html' is deprecated and will be removed in a future version. To read from a literal string, wrap it in a 'StringIO' object.\n",
      "  fixtures = pd.read_html(matches_data.text, match=\"Scores & Fixtures\")[0]\n",
      "C:\\Users\\Giwrgos\\AppData\\Local\\Temp\\ipykernel_13696\\2756754425.py:58: FutureWarning: Passing literal html to 'read_html' is deprecated and will be removed in a future version. To read from a literal string, wrap it in a 'StringIO' object.\n",
      "  shooting = pd.read_html(shooting_data.text, match=\"Shooting\")[0]\n"
     ]
    },
    {
     "name": "stdout",
     "output_type": "stream",
     "text": [
      "Brentford\n"
     ]
    },
    {
     "name": "stderr",
     "output_type": "stream",
     "text": [
      "C:\\Users\\Giwrgos\\AppData\\Local\\Temp\\ipykernel_13696\\2756754425.py:52: FutureWarning: Passing literal html to 'read_html' is deprecated and will be removed in a future version. To read from a literal string, wrap it in a 'StringIO' object.\n",
      "  fixtures = pd.read_html(matches_data.text, match=\"Scores & Fixtures\")[0]\n",
      "C:\\Users\\Giwrgos\\AppData\\Local\\Temp\\ipykernel_13696\\2756754425.py:58: FutureWarning: Passing literal html to 'read_html' is deprecated and will be removed in a future version. To read from a literal string, wrap it in a 'StringIO' object.\n",
      "  shooting = pd.read_html(shooting_data.text, match=\"Shooting\")[0]\n"
     ]
    },
    {
     "name": "stdout",
     "output_type": "stream",
     "text": [
      "Nottingham Forest\n"
     ]
    },
    {
     "name": "stderr",
     "output_type": "stream",
     "text": [
      "C:\\Users\\Giwrgos\\AppData\\Local\\Temp\\ipykernel_13696\\2756754425.py:52: FutureWarning: Passing literal html to 'read_html' is deprecated and will be removed in a future version. To read from a literal string, wrap it in a 'StringIO' object.\n",
      "  fixtures = pd.read_html(matches_data.text, match=\"Scores & Fixtures\")[0]\n",
      "C:\\Users\\Giwrgos\\AppData\\Local\\Temp\\ipykernel_13696\\2756754425.py:58: FutureWarning: Passing literal html to 'read_html' is deprecated and will be removed in a future version. To read from a literal string, wrap it in a 'StringIO' object.\n",
      "  shooting = pd.read_html(shooting_data.text, match=\"Shooting\")[0]\n"
     ]
    },
    {
     "name": "stdout",
     "output_type": "stream",
     "text": [
      "Luton Town\n"
     ]
    },
    {
     "name": "stderr",
     "output_type": "stream",
     "text": [
      "C:\\Users\\Giwrgos\\AppData\\Local\\Temp\\ipykernel_13696\\2756754425.py:52: FutureWarning: Passing literal html to 'read_html' is deprecated and will be removed in a future version. To read from a literal string, wrap it in a 'StringIO' object.\n",
      "  fixtures = pd.read_html(matches_data.text, match=\"Scores & Fixtures\")[0]\n",
      "C:\\Users\\Giwrgos\\AppData\\Local\\Temp\\ipykernel_13696\\2756754425.py:58: FutureWarning: Passing literal html to 'read_html' is deprecated and will be removed in a future version. To read from a literal string, wrap it in a 'StringIO' object.\n",
      "  shooting = pd.read_html(shooting_data.text, match=\"Shooting\")[0]\n"
     ]
    },
    {
     "name": "stdout",
     "output_type": "stream",
     "text": [
      "Burnley\n"
     ]
    },
    {
     "name": "stderr",
     "output_type": "stream",
     "text": [
      "C:\\Users\\Giwrgos\\AppData\\Local\\Temp\\ipykernel_13696\\2756754425.py:52: FutureWarning: Passing literal html to 'read_html' is deprecated and will be removed in a future version. To read from a literal string, wrap it in a 'StringIO' object.\n",
      "  fixtures = pd.read_html(matches_data.text, match=\"Scores & Fixtures\")[0]\n",
      "C:\\Users\\Giwrgos\\AppData\\Local\\Temp\\ipykernel_13696\\2756754425.py:58: FutureWarning: Passing literal html to 'read_html' is deprecated and will be removed in a future version. To read from a literal string, wrap it in a 'StringIO' object.\n",
      "  shooting = pd.read_html(shooting_data.text, match=\"Shooting\")[0]\n"
     ]
    },
    {
     "name": "stdout",
     "output_type": "stream",
     "text": [
      "Sheffield United\n"
     ]
    }
   ],
   "source": [
    "import requests\n",
    "import pandas as pd\n",
    "from bs4 import BeautifulSoup\n",
    "import time\n",
    "import io\n",
    "\n",
    "url = \"https://fbref.com/en/comps/9/2023-2024/2023-2024-Premier-League-Stats\"\n",
    "\n",
    "response = requests.get(url)\n",
    "\n",
    "if response.status_code == 200:\n",
    "    html_content = response.text\n",
    "    print(\"Succesful fetch.\")\n",
    "else:\n",
    "    print(\"Error.\")\n",
    "\n",
    "\n",
    "soup = BeautifulSoup(response.text)\n",
    "\n",
    "standings_table = soup.select('table.stats_table')[0]\n",
    "\n",
    "team_links = standings_table.find_all('a')\n",
    "team_links = [l.get(\"href\") for l in team_links]\n",
    "team_links = [l for l in team_links if '/squads/' in l]\n",
    "team_urls = [f\"https://fbref.com{l}\" for l in team_links]\n",
    "\n",
    "all_matches = []\n",
    "\n",
    "for team_url in team_urls:\n",
    "\n",
    "    team_name = team_url.split(\"/\")[-1].replace(\"-Stats\", \"\").replace(\"-\", \" \")\n",
    "\n",
    "    matches_data = requests.get(team_url)\n",
    "    fixtures = pd.read_html(matches_data.text, match=\"Scores & Fixtures\")[0]\n",
    "\n",
    "    soup = BeautifulSoup(matches_data.text)\n",
    "    shooting_links = [l.get(\"href\") for l in soup.find_all('a')]\n",
    "    shooting_links = [l for l in shooting_links if l and 'all_comps/shooting/' in l]\n",
    "    shooting_data = requests.get(f\"https://fbref.com{shooting_links[0]}\")\n",
    "    shooting = pd.read_html(shooting_data.text, match=\"Shooting\")[0]\n",
    "    shooting.columns = shooting.columns.droplevel()\n",
    "\n",
    "    try:\n",
    "        team_data = fixtures.merge(shooting[[\"Date\", \"Sh\", \"SoT\", \"Dist\", \"FK\", \"PK\", \"PKatt\", \"xG\", \"npxG\"]], on=\"Date\", how=\"left\")\n",
    "    except ValueError:\n",
    "        continue\n",
    "\n",
    "    team_data[\"Team\"] = team_name\n",
    "    all_matches.append(team_data)\n",
    "\n",
    "    print(team_name)\n",
    "\n",
    "    time.sleep(20)\n",
    "\n",
    "match_df = pd.concat(all_matches)\n",
    "match_df.to_csv(\"matches.csv\")"
   ]
  },
  {
   "cell_type": "code",
   "execution_count": null,
   "metadata": {},
   "outputs": [],
   "source": []
  }
 ],
 "metadata": {
  "kernelspec": {
   "display_name": "Python 3",
   "language": "python",
   "name": "python3"
  },
  "language_info": {
   "codemirror_mode": {
    "name": "ipython",
    "version": 3
   },
   "file_extension": ".py",
   "mimetype": "text/x-python",
   "name": "python",
   "nbconvert_exporter": "python",
   "pygments_lexer": "ipython3",
   "version": "3.13.0"
  }
 },
 "nbformat": 4,
 "nbformat_minor": 2
}
